{
 "cells": [
  {
   "cell_type": "code",
   "execution_count": 2,
   "metadata": {},
   "outputs": [],
   "source": [
    "import pandas as pd\n"
   ]
  },
  {
   "cell_type": "code",
   "execution_count": 21,
   "metadata": {},
   "outputs": [
    {
     "name": "stderr",
     "output_type": "stream",
     "text": [
      "C:\\Users\\mosta\\Anaconda3\\envs\\PythonData\\lib\\site-packages\\IPython\\core\\interactiveshell.py:3051: DtypeWarning: Columns (1,10) have mixed types. Specify dtype option on import or set low_memory=False.\n",
      "  interactivity=interactivity, compiler=compiler, result=result)\n"
     ]
    },
    {
     "data": {
      "text/html": [
       "<div>\n",
       "<style scoped>\n",
       "    .dataframe tbody tr th:only-of-type {\n",
       "        vertical-align: middle;\n",
       "    }\n",
       "\n",
       "    .dataframe tbody tr th {\n",
       "        vertical-align: top;\n",
       "    }\n",
       "\n",
       "    .dataframe thead th {\n",
       "        text-align: right;\n",
       "    }\n",
       "</style>\n",
       "<table border=\"1\" class=\"dataframe\">\n",
       "  <thead>\n",
       "    <tr style=\"text-align: right;\">\n",
       "      <th></th>\n",
       "      <th>ID</th>\n",
       "      <th>Name</th>\n",
       "      <th>Brand</th>\n",
       "      <th>Category</th>\n",
       "      <th>Review Date</th>\n",
       "      <th>Date Seen</th>\n",
       "      <th>Recommendation</th>\n",
       "      <th>Rating</th>\n",
       "      <th>Review</th>\n",
       "      <th>Review Title</th>\n",
       "      <th>Username</th>\n",
       "    </tr>\n",
       "  </thead>\n",
       "  <tbody>\n",
       "    <tr>\n",
       "      <th>0</th>\n",
       "      <td>AVqkIhwDv8e3D1O-lebb</td>\n",
       "      <td>All-New Fire HD 8 Tablet, 8 HD Display, Wi-Fi,...</td>\n",
       "      <td>Amazon</td>\n",
       "      <td>Electronics,iPad &amp; Tablets,All Tablets,Fire Ta...</td>\n",
       "      <td>2017-01-13T00:00:00.000Z</td>\n",
       "      <td>2017-06-07T09:04:00.000Z,2017-04-30T00:45:00.000Z</td>\n",
       "      <td>True</td>\n",
       "      <td>5.0</td>\n",
       "      <td>This product so far has not disappointed. My c...</td>\n",
       "      <td>Kindle</td>\n",
       "      <td>Adapter</td>\n",
       "    </tr>\n",
       "    <tr>\n",
       "      <th>1</th>\n",
       "      <td>AVqkIhwDv8e3D1O-lebb</td>\n",
       "      <td>All-New Fire HD 8 Tablet, 8 HD Display, Wi-Fi,...</td>\n",
       "      <td>Amazon</td>\n",
       "      <td>Electronics,iPad &amp; Tablets,All Tablets,Fire Ta...</td>\n",
       "      <td>2017-01-13T00:00:00.000Z</td>\n",
       "      <td>2017-06-07T09:04:00.000Z,2017-04-30T00:45:00.000Z</td>\n",
       "      <td>True</td>\n",
       "      <td>5.0</td>\n",
       "      <td>great for beginner or experienced person. Boug...</td>\n",
       "      <td>very fast</td>\n",
       "      <td>truman</td>\n",
       "    </tr>\n",
       "    <tr>\n",
       "      <th>2</th>\n",
       "      <td>AVqkIhwDv8e3D1O-lebb</td>\n",
       "      <td>All-New Fire HD 8 Tablet, 8 HD Display, Wi-Fi,...</td>\n",
       "      <td>Amazon</td>\n",
       "      <td>Electronics,iPad &amp; Tablets,All Tablets,Fire Ta...</td>\n",
       "      <td>2017-01-13T00:00:00.000Z</td>\n",
       "      <td>2017-06-07T09:04:00.000Z,2017-04-30T00:45:00.000Z</td>\n",
       "      <td>True</td>\n",
       "      <td>5.0</td>\n",
       "      <td>Inexpensive tablet for him to use and learn on...</td>\n",
       "      <td>Beginner tablet for our 9 year old son.</td>\n",
       "      <td>DaveZ</td>\n",
       "    </tr>\n",
       "    <tr>\n",
       "      <th>3</th>\n",
       "      <td>AVqkIhwDv8e3D1O-lebb</td>\n",
       "      <td>All-New Fire HD 8 Tablet, 8 HD Display, Wi-Fi,...</td>\n",
       "      <td>Amazon</td>\n",
       "      <td>Electronics,iPad &amp; Tablets,All Tablets,Fire Ta...</td>\n",
       "      <td>2017-01-13T00:00:00.000Z</td>\n",
       "      <td>2017-06-07T09:04:00.000Z,2017-04-30T00:45:00.000Z</td>\n",
       "      <td>True</td>\n",
       "      <td>4.0</td>\n",
       "      <td>I've had my Fire HD 8 two weeks now and I love...</td>\n",
       "      <td>Good!!!</td>\n",
       "      <td>Shacks</td>\n",
       "    </tr>\n",
       "    <tr>\n",
       "      <th>4</th>\n",
       "      <td>AVqkIhwDv8e3D1O-lebb</td>\n",
       "      <td>All-New Fire HD 8 Tablet, 8 HD Display, Wi-Fi,...</td>\n",
       "      <td>Amazon</td>\n",
       "      <td>Electronics,iPad &amp; Tablets,All Tablets,Fire Ta...</td>\n",
       "      <td>2017-01-12T00:00:00.000Z</td>\n",
       "      <td>2017-06-07T09:04:00.000Z,2017-04-30T00:45:00.000Z</td>\n",
       "      <td>True</td>\n",
       "      <td>5.0</td>\n",
       "      <td>I bought this for my grand daughter when she c...</td>\n",
       "      <td>Fantastic Tablet for kids</td>\n",
       "      <td>explore42</td>\n",
       "    </tr>\n",
       "  </tbody>\n",
       "</table>\n",
       "</div>"
      ],
      "text/plain": [
       "                     ID                                               Name  \\\n",
       "0  AVqkIhwDv8e3D1O-lebb  All-New Fire HD 8 Tablet, 8 HD Display, Wi-Fi,...   \n",
       "1  AVqkIhwDv8e3D1O-lebb  All-New Fire HD 8 Tablet, 8 HD Display, Wi-Fi,...   \n",
       "2  AVqkIhwDv8e3D1O-lebb  All-New Fire HD 8 Tablet, 8 HD Display, Wi-Fi,...   \n",
       "3  AVqkIhwDv8e3D1O-lebb  All-New Fire HD 8 Tablet, 8 HD Display, Wi-Fi,...   \n",
       "4  AVqkIhwDv8e3D1O-lebb  All-New Fire HD 8 Tablet, 8 HD Display, Wi-Fi,...   \n",
       "\n",
       "    Brand                                           Category  \\\n",
       "0  Amazon  Electronics,iPad & Tablets,All Tablets,Fire Ta...   \n",
       "1  Amazon  Electronics,iPad & Tablets,All Tablets,Fire Ta...   \n",
       "2  Amazon  Electronics,iPad & Tablets,All Tablets,Fire Ta...   \n",
       "3  Amazon  Electronics,iPad & Tablets,All Tablets,Fire Ta...   \n",
       "4  Amazon  Electronics,iPad & Tablets,All Tablets,Fire Ta...   \n",
       "\n",
       "                Review Date  \\\n",
       "0  2017-01-13T00:00:00.000Z   \n",
       "1  2017-01-13T00:00:00.000Z   \n",
       "2  2017-01-13T00:00:00.000Z   \n",
       "3  2017-01-13T00:00:00.000Z   \n",
       "4  2017-01-12T00:00:00.000Z   \n",
       "\n",
       "                                           Date Seen Recommendation  Rating  \\\n",
       "0  2017-06-07T09:04:00.000Z,2017-04-30T00:45:00.000Z           True     5.0   \n",
       "1  2017-06-07T09:04:00.000Z,2017-04-30T00:45:00.000Z           True     5.0   \n",
       "2  2017-06-07T09:04:00.000Z,2017-04-30T00:45:00.000Z           True     5.0   \n",
       "3  2017-06-07T09:04:00.000Z,2017-04-30T00:45:00.000Z           True     4.0   \n",
       "4  2017-06-07T09:04:00.000Z,2017-04-30T00:45:00.000Z           True     5.0   \n",
       "\n",
       "                                              Review  \\\n",
       "0  This product so far has not disappointed. My c...   \n",
       "1  great for beginner or experienced person. Boug...   \n",
       "2  Inexpensive tablet for him to use and learn on...   \n",
       "3  I've had my Fire HD 8 two weeks now and I love...   \n",
       "4  I bought this for my grand daughter when she c...   \n",
       "\n",
       "                              Review Title   Username  \n",
       "0                                   Kindle    Adapter  \n",
       "1                                very fast     truman  \n",
       "2  Beginner tablet for our 9 year old son.      DaveZ  \n",
       "3                                  Good!!!     Shacks  \n",
       "4                Fantastic Tablet for kids  explore42  "
      ]
     },
     "execution_count": 21,
     "metadata": {},
     "output_type": "execute_result"
    }
   ],
   "source": [
    "data = \"1429_1.csv\"\n",
    "df = pd.read_csv(data)\n",
    "\n",
    "df = df.drop([\"asins\", \"keys\",\"manufacturer\", \"reviews.didPurchase\", \"reviews.id\", \"reviews.sourceURLs\", \"reviews.userCity\", \"reviews.userProvince\", \"reviews.numHelpful\" ], axis = 1)\n",
    "df.columns = [\"ID\", \"Name\", \"Brand\", \"Category\", \"Review Date\", \"Date Added\", \"Date Seen\", \"Recommendation\", \"Rating\", \"Review\", \"Review Title\", \"Username\"]\n",
    "df = df.drop(\"Date Added\", axis = 1)\n",
    "\n",
    "df.head()"
   ]
  },
  {
   "cell_type": "code",
   "execution_count": 37,
   "metadata": {},
   "outputs": [
    {
     "data": {
      "text/plain": [
       "0    This product so far has not disappointed. My c...\n",
       "0    I order 3 of them and one of the item is bad q...\n",
       "0    I thought it would be as big as small paper bu...\n",
       "Name: Review, dtype: object"
      ]
     },
     "execution_count": 37,
     "metadata": {},
     "output_type": "execute_result"
    }
   ],
   "source": []
  },
  {
   "cell_type": "code",
   "execution_count": 51,
   "metadata": {},
   "outputs": [
    {
     "data": {
      "text/plain": [
       "46909"
      ]
     },
     "execution_count": 51,
     "metadata": {},
     "output_type": "execute_result"
    }
   ],
   "source": [
    "data1 = \"Datafiniti_Amazon_Consumer_Reviews_of_Amazon_Products_May19.csv\"\n",
    "df1 = pd.read_csv(data1, header = 0)\n",
    "data2= \"Datafiniti_Amazon_Consumer_Reviews_of_Amazon_Products.csv\"\n",
    "df2 = pd.read_csv(data2, header = 0)\n",
    "cols = ['id', 'dateAdded', 'dateUpdated', 'name', 'asins', 'brand',\n",
    "       'categories', 'primaryCategories', 'imageURLs', 'keys', 'manufacturer',\n",
    "       'manufacturerNumber', 'reviews.date', \n",
    "       'reviews.dateSeen', 'reviews.dateAdded', 'reviews.doRecommend', 'reviews.id',\n",
    "       'reviews.numHelpful', 'reviews.rating', 'reviews.sourceURLs',\n",
    "       'reviews.text', 'reviews.title', 'reviews.username', 'sourceURLs']\n",
    "        \n",
    "df1.columns = cols\n",
    "df2.columns = cols\n",
    "combined_data = pd.concat([df1, df2])\n",
    "\n",
    "combined_data = combined_data.drop([\"asins\", \"keys\",\"manufacturer\", \"reviews.id\", \"imageURLs\", \"manufacturerNumber\", \"dateUpdated\", \"primaryCategories\", \"reviews.numHelpful\", \"sourceURLs\", \"reviews.sourceURLs\" ], axis = 1)\n",
    "combined_data.columns = [\"ID\",\"Date Added\", \"Name\", \"Brand\", \"Category\", \"Review Date\" , \"Date Seen\",\"Date Added\", \"Recommendation\", \"Rating\", \"Review\", \"Review Title\", \"Username\"]\n",
    "combined_data = combined_data[[\"ID\", \"Name\", \"Brand\", \"Category\",\"Review Date\", \"Date Added\", \"Date Seen\", \"Recommendation\", \"Rating\", \"Review\", \"Review Title\", \"Username\"]]\n",
    "combined_data = combined_data.drop(\"Date Added\", axis = 1)\n",
    "full_data = pd.concat([df, combined_data])\n",
    "full_data = full_data.reset_index()\n",
    "full_data = full_data.drop_duplicates(subset='Review', keep='first')\n"
   ]
  },
  {
   "cell_type": "code",
   "execution_count": null,
   "metadata": {},
   "outputs": [],
   "source": []
  }
 ],
 "metadata": {
  "kernelspec": {
   "display_name": "Python 3",
   "language": "python",
   "name": "python3"
  },
  "language_info": {
   "codemirror_mode": {
    "name": "ipython",
    "version": 3
   },
   "file_extension": ".py",
   "mimetype": "text/x-python",
   "name": "python",
   "nbconvert_exporter": "python",
   "pygments_lexer": "ipython3",
   "version": "3.6.9"
  }
 },
 "nbformat": 4,
 "nbformat_minor": 2
}
